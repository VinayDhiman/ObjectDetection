{
 "cells": [
  {
   "cell_type": "markdown",
   "metadata": {},
   "source": [
    "#  THE SPARKS FOUNDATION\n",
    "\n",
    "## TASK 1\n",
    "\n",
    "## OBJECT DETECTION USING OPENCV\n",
    "\n",
    "## AUTHOR - VINAY DHIMAN\n",
    "\n",
    "\n",
    "\n"
   ]
  },
  {
   "cell_type": "code",
   "execution_count": 5,
   "metadata": {},
   "outputs": [],
   "source": [
    "# import libraries\n",
    "import cv2\n",
    "import matplotlib.pyplot as plt"
   ]
  },
  {
   "cell_type": "code",
   "execution_count": 6,
   "metadata": {},
   "outputs": [],
   "source": [
    "# importing ssd_mobilenet_v3_large_coco_2020_01_14.pbtxt and frozen_inference_graph.pb\n",
    "\n",
    "config_file = 'data/ssd_mobilenet_v3_large_coco_2020_01_14.pbtxt'\n",
    "\n",
    "frozen_model = 'data/frozen_inference_graph.pb'\n",
    "\n",
    "file_name = 'data/coco.names'\n",
    "\n",
    "\n"
   ]
  },
  {
   "cell_type": "code",
   "execution_count": 7,
   "metadata": {},
   "outputs": [
    {
     "data": {
      "text/plain": [
       "<dnn_Model 0000004BFD1DB2D0>"
      ]
     },
     "execution_count": 7,
     "metadata": {},
     "output_type": "execute_result"
    }
   ],
   "source": [
    "# test pretrained model\n",
    "\n",
    "classLabels = [0]\n",
    "\n",
    "with open(file_name, 'rt') as fpt:\n",
    "    classLabels = fpt.read().rstrip('\\n').split('\\n')\n",
    "    classLabels.append(fpt.read())\n",
    "    \n",
    "test = cv2.dnn_DetectionModel(frozen_model, config_file)\n",
    "test.setInputSize(550, 320)\n",
    "test.setInputScale(1.5 / 127.5)  \n",
    "test.setInputMean((127.5, 127.5, 127.5)) \n",
    "test.setInputSwapRB(True)"
   ]
  },
  {
   "cell_type": "code",
   "execution_count": 8,
   "metadata": {},
   "outputs": [],
   "source": [
    "# importing \"traffic video.mp4\"\n",
    "cap = cv2.VideoCapture(\"data/walk.mp4\")  \n",
    "\n",
    "if not cap.isOpened():\n",
    "    cap = cv2.VideoCapture(0)\n",
    "if not cap.isOpened():\n",
    "    raise print(\"cannot open video\")\n",
    "\n",
    "font_scale = 1.5\n",
    "font = cv2.FONT_HERSHEY_PLAIN\n",
    "\n",
    "while True:\n",
    "    ret, frame = cap.read()\n",
    "\n",
    "    ClassIndex, confidence, bbox = test.detect(frame, confThreshold=0.55)\n",
    "\n",
    "    #print(ClassIndex)\n",
    "    if len(ClassIndex) != 0:\n",
    "        for ClassInd, conf, boxes in zip(ClassIndex.flatten(), confidence.flatten(), bbox):\n",
    "            if ClassInd <= 80:\n",
    "                cv2.rectangle(frame, boxes, (255, 0, 0), 2)\n",
    "                cv2.putText(frame, classLabels[ClassInd - 1], (boxes[0] + 10, boxes[1] + 40), font,\n",
    "                            fontScale=font_scale, color=(0, 255, 0), thickness=2)\n",
    "\n",
    "    cv2.imshow('Live Object Detection', frame)\n",
    "\n",
    "    if cv2.waitKey(2) & 0XFF == ord('s'):\n",
    "        break\n",
    "\n",
    "cap.release()\n",
    "cv2.destroyAllWindows()"
   ]
  },
  {
   "cell_type": "code",
   "execution_count": null,
   "metadata": {},
   "outputs": [],
   "source": []
  }
 ],
 "metadata": {
  "kernelspec": {
   "display_name": "Python 3",
   "language": "python",
   "name": "python3"
  },
  "language_info": {
   "codemirror_mode": {
    "name": "ipython",
    "version": 3
   },
   "file_extension": ".py",
   "mimetype": "text/x-python",
   "name": "python",
   "nbconvert_exporter": "python",
   "pygments_lexer": "ipython3",
   "version": "3.8.3"
  }
 },
 "nbformat": 4,
 "nbformat_minor": 4
}
